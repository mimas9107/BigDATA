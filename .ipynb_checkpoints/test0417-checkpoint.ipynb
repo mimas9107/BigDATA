{
 "cells": [
  {
   "cell_type": "code",
   "execution_count": 5,
   "metadata": {},
   "outputs": [
    {
     "name": "stdout",
     "output_type": "stream",
     "text": [
      "hello world!\n",
      "\n"
     ]
    }
   ],
   "source": [
    "print('hello world!\\n')"
   ]
  },
  {
   "cell_type": "code",
   "execution_count": 1,
   "metadata": {},
   "outputs": [],
   "source": [
    "import numpy as np\n",
    "import matplotlib.pyplot as plt\n"
   ]
  },
  {
   "cell_type": "markdown",
   "metadata": {},
   "source": [
    "# x(T)=16sin3(T)+25 \n",
    "\n",
    "# y(T)=13cos(T)−5cos(2T)−2cos(3T)−cos(4T)+20"
   ]
  },
  {
   "cell_type": "code",
   "execution_count": 30,
   "metadata": {},
   "outputs": [],
   "source": [
    "t = np.array(list(range(-2200,2200)))/100\n",
    "x = 16*np.sin(t)**3 +25\n",
    "y = 13*np.cos(t)-5*np.cos(2*t)-2*np.cos(3*t)-np.cos(4*t)+20"
   ]
  },
  {
   "cell_type": "code",
   "execution_count": 31,
   "metadata": {
    "scrolled": true
   },
   "outputs": [
    {
     "data": {
      "image/png": "[encoded data removed]",
      "text/plain": [
       "<Figure size 432x288 with 1 Axes>"
      ]
     },
     "metadata": {
      "needs_background": "light"
     },
     "output_type": "display_data"
    }
   ],
   "source": [
    "plt.plot(x,y,'r')\n",
    "\n",
    "plt.show()"
   ]
  },
  {
   "cell_type": "markdown",
   "metadata": {},
   "source": [
    "# 1. function: f(x) \n",
    "##   香腸製造機( 絞肉 ) ....... XDDDDDD\n",
    "# 2. DATA type : \n",
    "## value={int, float, bool}, \n",
    "## str={\"foo\",'bar'}, \n",
    "## list=[ obj1 , obj2,...], \n",
    "## dict={ key: value, key2: value2 } \n"
   ]
  },
  {
   "cell_type": "markdown",
   "metadata": {},
   "source": [
    "# 練習：餐廳結帳\n",
    "## 10%服務費, 5%營業稅"
   ]
  },
  {
   "cell_type": "code",
   "execution_count": 54,
   "metadata": {},
   "outputs": [
    {
     "name": "stdout",
     "output_type": "stream",
     "text": [
      "總共 1155.0 元\n"
     ]
    }
   ],
   "source": [
    "price=1000\n",
    "service_rate=10.0/100 # 10%服務費\n",
    "tax_rate=5.0/100      # 5%營業稅\n",
    "\n",
    "bill = (price * (1+service_rate))*(1+tax_rate)\n",
    "print('總共 '+str(bill)+' 元')"
   ]
  },
  {
   "cell_type": "markdown",
   "metadata": {},
   "source": [
    "# 輸入項目：\n",
    "## var = input() \n",
    "## typeof(var) is <class 'str'>"
   ]
  },
  {
   "cell_type": "code",
   "execution_count": 53,
   "metadata": {},
   "outputs": [
    {
     "name": "stdout",
     "output_type": "stream",
     "text": [
      "請輸入用餐金額：1000\n",
      "結帳金額總共 1155.0 元\n"
     ]
    }
   ],
   "source": [
    "price=int(input('請輸入用餐金額：'))\n",
    "service_rate=10.0/100 # 10%服務費\n",
    "tax_rate=5.0/100      # 5%營業稅\n",
    "\n",
    "bill = (price * (1+service_rate))*(1+tax_rate)\n",
    "print('結帳金額總共 '+str(bill)+' 元')"
   ]
  },
  {
   "cell_type": "markdown",
   "metadata": {},
   "source": [
    "# List操作： [] <= 中括號的藝術！！！\n",
    "\n"
   ]
  },
  {
   "cell_type": "code",
   "execution_count": 61,
   "metadata": {},
   "outputs": [
    {
     "name": "stdout",
     "output_type": "stream",
     "text": [
      "0 0987654321 9\n",
      "1 4928408520 9\n",
      "2 8394809234 3\n"
     ]
    }
   ],
   "source": [
    "phone_list=['0987654321','4928408520','8394809234']\n",
    "for ele in phone_list:\n",
    "    print(phone_list.index(ele),ele,ele[1])"
   ]
  },
  {
   "cell_type": "markdown",
   "metadata": {},
   "source": [
    "# Dictionary操作:  dict= { key: value, key2: value2, ... }"
   ]
  },
  {
   "cell_type": "code",
   "execution_count": 72,
   "metadata": {},
   "outputs": [
    {
     "name": "stdout",
     "output_type": "stream",
     "text": [
      "{'rice': 10, 'soup': 50, 'steak': {'big': 300, 'middle': 200, 'small': 100}}\n",
      "dict_items([('rice', 10), ('soup', 50), ('steak', {'big': 300, 'middle': 200, 'small': 100})])\n",
      "dict_keys(['rice', 'soup', 'steak'])\n",
      "dict_values([10, 50, {'big': 300, 'middle': 200, 'small': 100}])\n",
      "10\n",
      "300\n"
     ]
    }
   ],
   "source": [
    "menu = {'rice':10, 'soup':50, 'steak':{'big':300,'middle':200,'small':100}}\n",
    "print(menu)\n",
    "print(menu.items())\n",
    "print(menu.keys())\n",
    "print(menu.values())\n",
    "#print(menu[0]) # <== dict沒有順序序列的使用了！！,所以會報error\n",
    "print(menu['rice'])\n",
    "print(menu['steak']['big'])"
   ]
  },
  {
   "cell_type": "code",
   "execution_count": 74,
   "metadata": {},
   "outputs": [
    {
     "name": "stdout",
     "output_type": "stream",
     "text": [
      "rice 10\n",
      "soup 50\n",
      "steak {'big': 300, 'middle': 200, 'small': 100}\n"
     ]
    }
   ],
   "source": [
    "for ele in menu:\n",
    "    print(ele,menu[ele])"
   ]
  },
  {
   "cell_type": "code",
   "execution_count": null,
   "metadata": {},
   "outputs": [],
   "source": []
  },
  {
   "cell_type": "code",
   "execution_count": null,
   "metadata": {},
   "outputs": [],
   "source": []
  }
 ],
 "metadata": {
  "kernelspec": {
   "display_name": "Python 3",
   "language": "python",
   "name": "python3"
  },
  "language_info": {
   "codemirror_mode": {
    "name": "ipython",
    "version": 3
   },
   "file_extension": ".py",
   "mimetype": "text/x-python",
   "name": "python",
   "nbconvert_exporter": "python",
   "pygments_lexer": "ipython3",
   "version": "3.8.5"
  }
 },
 "nbformat": 4,
 "nbformat_minor": 4
}
