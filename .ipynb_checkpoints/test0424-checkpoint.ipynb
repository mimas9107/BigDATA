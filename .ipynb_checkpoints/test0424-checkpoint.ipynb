{
 "cells": [
  {
   "cell_type": "markdown",
   "id": "a5ab1e14",
   "metadata": {},
   "source": [
    "# if elif else : Flow control\n",
    "\n",
    "## if (condition1) :\n",
    "##     command1\n",
    "## elif (condition2) :\n",
    "##     command2\n",
    "## else:\n",
    "##     command_others\n",
    "## "
   ]
  },
  {
   "cell_type": "code",
   "execution_count": null,
   "id": "06196eaa",
   "metadata": {},
   "outputs": [],
   "source": [
    "money = int(input(\"money=\"))\n",
    "num_apple=0\n",
    "\n",
    "price_apple=50\n",
    "\n",
    "if money>=price_apple*2:\n",
    "    money=money-price_apple*2\n",
    "    num_apple=num_apple+2\n",
    "    print(\"剩下\",money,\"元\")\n",
    "    print(\"買了\",num_apple,\"顆apple\")\n",
    "elif money>=price_apple:\n",
    "    money=money-price_apple\n",
    "    num_apple=num_apple+1\n",
    "    print(\"剩下\",money,\"元\")\n",
    "    print(\"買了\",num_apple,\"顆apple\")\n",
    "else:\n",
    "    print(\"剩下\",money,\"元\")\n",
    "    print(\"買了\",num_apple,\"顆apple\")\n",
    "    "
   ]
  },
  {
   "cell_type": "code",
   "execution_count": null,
   "id": "2474fcb6",
   "metadata": {},
   "outputs": [],
   "source": [
    "money = int(input(\"money=\"))\n",
    "num_apple=0\n",
    "\n",
    "price_apple=50\n",
    "\n",
    "if money>=price_apple:\n",
    "    if money>=price_apple*2:\n",
    "        money=money-price_apple*2\n",
    "        num_apple=num_apple+2\n",
    "    else:\n",
    "        money=money-price_apple\n",
    "        num_apple=num_apple+1\n",
    "    print(\"剩下\",money,\"元\")\n",
    "    print(\"買了\",num_apple,\"顆apple\")\n",
    "\n",
    "else:\n",
    "    print(\"剩下\",money,\"元\")\n",
    "    print(\"買了\",num_apple,\"顆apple\")"
   ]
  },
  {
   "cell_type": "markdown",
   "id": "d93d1dd8",
   "metadata": {},
   "source": [
    "# % <= A mod B : modulous operator\n",
    "## 1%2=1\n",
    "## 2%2=0\n",
    "## 7%4=3"
   ]
  },
  {
   "cell_type": "code",
   "execution_count": null,
   "id": "2c87afa6",
   "metadata": {},
   "outputs": [],
   "source": [
    "num = int(input(\"number=\"))\n",
    "if (num%2):\n",
    "    print(\"奇數\")\n",
    "else:\n",
    "    print(\"偶數\")"
   ]
  },
  {
   "cell_type": "markdown",
   "id": "fce46bb4",
   "metadata": {},
   "source": [
    "# if state with string comparation:\n"
   ]
  },
  {
   "cell_type": "markdown",
   "id": "20201d4f",
   "metadata": {},
   "source": [
    "# mud????"
   ]
  },
  {
   "cell_type": "code",
   "execution_count": null,
   "id": "596b3d03",
   "metadata": {},
   "outputs": [],
   "source": [
    "answer = input(\"你要往那走？左或右  >>\")\n",
    "if answer == \"左\" or answer == \"左邊\" or answer == \"left\" or answer == \"left side\" :\n",
    "    print(\"門後有寶箱，你發財了！\")\n",
    "elif answer == \"右\" or answer == \"右邊\" or answer == \"right\" or answer == \"right side\" :\n",
    "    print(\"門後是陷阱，你已經死了！\")\n",
    "else:\n",
    "    print(\"你的選擇無法辨識\")"
   ]
  },
  {
   "cell_type": "markdown",
   "id": "924f71c5",
   "metadata": {},
   "source": [
    "# While loop :"
   ]
  },
  {
   "cell_type": "code",
   "execution_count": null,
   "id": "dbdabcb6",
   "metadata": {},
   "outputs": [],
   "source": [
    "count=0\n",
    "while count<10:\n",
    "    count+=1\n",
    "    print(count)"
   ]
  },
  {
   "cell_type": "code",
   "execution_count": 2,
   "id": "48f2b4a0",
   "metadata": {},
   "outputs": [],
   "source": [
    "import random\n"
   ]
  },
  {
   "cell_type": "code",
   "execution_count": 3,
   "id": "86309135",
   "metadata": {},
   "outputs": [
    {
     "name": "stdout",
     "output_type": "stream",
     "text": [
      "3\n"
     ]
    }
   ],
   "source": [
    "random_number=random.randint(1,6)\n",
    "\n",
    "print(random_number)"
   ]
  },
  {
   "cell_type": "code",
   "execution_count": 8,
   "id": "f8f99226",
   "metadata": {},
   "outputs": [
    {
     "name": "stdout",
     "output_type": "stream",
     "text": [
      "your dice1 6\n",
      "your dice2 6\n",
      "your dice3 1\n",
      "you win\n"
     ]
    }
   ],
   "source": [
    "i = 0\n",
    "while i<3:\n",
    "    rand_number=random.randint(1,6)\n",
    "    if rand_number == 5:\n",
    "        print(\"you loss\")\n",
    "        break\n",
    "        \n",
    "    else:\n",
    "        i+=1\n",
    "        print(\"your dice{}\".format(i),rand_number)\n",
    "else:\n",
    "    print(\"you win\")\n",
    "    "
   ]
  },
  {
   "cell_type": "markdown",
   "id": "925cbef3",
   "metadata": {},
   "source": [
    "# for loop:"
   ]
  },
  {
   "cell_type": "code",
   "execution_count": 9,
   "id": "19803a4a",
   "metadata": {},
   "outputs": [
    {
     "name": "stdout",
     "output_type": "stream",
     "text": [
      "P\n",
      "y\n",
      "t\n",
      "h\n",
      "o\n",
      "n\n"
     ]
    }
   ],
   "source": [
    "st=\"Python\"\n",
    "for letter in st:\n",
    "    print(letter)"
   ]
  },
  {
   "cell_type": "code",
   "execution_count": 10,
   "id": "618734eb",
   "metadata": {},
   "outputs": [
    {
     "name": "stdout",
     "output_type": "stream",
     "text": [
      "50\n",
      "40\n",
      "35\n"
     ]
    }
   ],
   "source": [
    "menu=[50,40,35]\n",
    "for price in menu:\n",
    "    print(price)"
   ]
  },
  {
   "cell_type": "markdown",
   "id": "161373d3",
   "metadata": {},
   "source": [
    "# For loop with Dictionary:\n",
    "## key:value pair => in For loop, \n",
    "## it will print out the key"
   ]
  },
  {
   "cell_type": "code",
   "execution_count": 21,
   "id": "7a2e6fbf",
   "metadata": {},
   "outputs": [
    {
     "name": "stdout",
     "output_type": "stream",
     "text": [
      "Welcome to my restaurant\n",
      "pizza : 180\n",
      "pasta : 120\n",
      "salad : 55\n",
      "soup : 45\n"
     ]
    }
   ],
   "source": [
    "dict_menu = {\"pizza\":180, \"pasta\":120, \"salad\":55, \"soup\":45 }\n",
    "print(\"Welcome to my restaurant\")\n",
    "for ele in dict_menu:\n",
    "    print(\"{} : {}\".format(ele,dict_menu[ele]))"
   ]
  },
  {
   "cell_type": "markdown",
   "id": "30b87015",
   "metadata": {},
   "source": [
    "# def : 函數定義"
   ]
  },
  {
   "cell_type": "code",
   "execution_count": 25,
   "id": "64ea5804",
   "metadata": {},
   "outputs": [
    {
     "name": "stdout",
     "output_type": "stream",
     "text": [
      "華氏溫度= 212\n",
      "攝氏溫度=  100.0\n"
     ]
    }
   ],
   "source": [
    "def F2C(Fdeg):\n",
    "    Cdeg = 5/9 * (Fdeg-32)\n",
    "    return Cdeg\n",
    "\n",
    "F = float(input(\"華氏溫度= \"))\n",
    "C = F2C(F)\n",
    "print(\"攝氏溫度= \", C)"
   ]
  },
  {
   "cell_type": "code",
   "execution_count": null,
   "id": "002b6308",
   "metadata": {},
   "outputs": [],
   "source": []
  },
  {
   "cell_type": "code",
   "execution_count": null,
   "id": "6ffa244c",
   "metadata": {},
   "outputs": [],
   "source": []
  },
  {
   "cell_type": "code",
   "execution_count": null,
   "id": "cf748212",
   "metadata": {},
   "outputs": [],
   "source": []
  }
 ],
 "metadata": {
  "kernelspec": {
   "display_name": "Python 3",
   "language": "python",
   "name": "python3"
  },
  "language_info": {
   "codemirror_mode": {
    "name": "ipython",
    "version": 3
   },
   "file_extension": ".py",
   "mimetype": "text/x-python",
   "name": "python",
   "nbconvert_exporter": "python",
   "pygments_lexer": "ipython3",
   "version": "3.8.5"
  },
  "toc": {
   "base_numbering": 1,
   "nav_menu": {},
   "number_sections": true,
   "sideBar": true,
   "skip_h1_title": false,
   "title_cell": "Table of Contents",
   "title_sidebar": "Contents",
   "toc_cell": false,
   "toc_position": {},
   "toc_section_display": true,
   "toc_window_display": false
  }
 },
 "nbformat": 4,
 "nbformat_minor": 5
}
