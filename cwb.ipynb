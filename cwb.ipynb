{
 "cells": [
  {
   "cell_type": "code",
   "execution_count": 1,
   "metadata": {},
   "outputs": [],
   "source": [
    "import numpy as np\n",
    "import requests\n"
   ]
  },
  {
   "cell_type": "code",
   "execution_count": 10,
   "metadata": {},
   "outputs": [],
   "source": [
    "# url=\"https://www.cwb.gov.tw/V8/C/W/OBS_County.html?ID=63\"\n",
    "url=\"https://www.cwb.gov.tw/Data/js/Observe/County/63.js?_=1619241828978\"\n",
    "headers={\n",
    "    \"Host\": \"www.cwb.gov.tw\",\n",
    "    \"User-Agent\": \"Mozilla/5.0 (X11; Ubuntu; Linux x86_64; rv:87.0) Gecko/20100101 Firefox/87.0\",\n",
    "    \"Connection\": \"keep-alive\",\n",
    "    \"Cookie\": \"_ga_K6HENP0XVS=GS1.1.1619241678.5.1.1619242111.0; _ga=GA1.3.588699186.1617553853; TabIndex_Sat=Tab2; AreaIndex_Sat=Area1; TS010c55bd=0107dddfefa5ecaed8d7696dc4367749e77ca3f090f5fc2c3cfd9e60ae9e203bf8c731d7a60fbea07a682b7250850ec5962236b9cf; TS558d33eb027=08dc4bbcbbab2000ce0a94167140c0e5c027177839e82978451dea009e27370de6a12ea535880a5808e17b4199113000d8d2cc82b25045f317ce6802a243565b976ba23b514b8af21e650159a4704f55c945346deba5127485657707b54311b6; _gid=GA1.3.1096461088.1619241679\"\n",
    "}\n"
   ]
  },
  {
   "cell_type": "code",
   "execution_count": 11,
   "metadata": {},
   "outputs": [
    {
     "name": "stdout",
     "output_type": "stream",
     "text": [
      "<Response [200]>\n"
     ]
    }
   ],
   "source": [
    "result = requests.get(url,headers=headers)\n",
    "print(result)"
   ]
  },
  {
   "cell_type": "code",
   "execution_count": 12,
   "metadata": {},
   "outputs": [
    {
     "name": "stdout",
     "output_type": "stream",
     "text": [
      "var ST = {    \n",
      "'63':{\n",
      "  '0':{'StationStatus':'1','StationStatus_Desp':'','StationID':'46691','Date':'04/24','Time':'13:20','StationName':{'C':'鞍部','E':\"Anpu\"},'W_Time':'day','Wx_Icon':'04','Weather':{'C':'多雲','E':'PARTLY CLOUDY'},'Temperature':{'C':{'C':'19.5','E':'19.5'},'F':{'C':'67','E':'67'}},'Humidity':{'C':'92','E':'92'},'Rain':{'C':'1.0','E':'1.0'},'WindDir':{'C':'南南東','E':'SSE'},'WindDir_Icon':'sse','Wind':{'MS':{'C':'2.4','E':'2.4'},'BF':{'C':'2','E':'2'}},'Gust':{'MS':{'C':'-','E':'-'},'BF':{'C':'-','E':'-'}},'Visibility':{'C':'>30','E':'>30'},'Pressure':{'C':'-','E':'-'},'Sunshine':'2.2'},\n",
      "  '1':{'StationStatus':'1','StationStatus_Desp':'','StationID':'46692','Date':'04/24','Time':'13:20','StationName':{'C':'臺北','E':\"Taipei\"},'W_Time':'day','Wx_Icon':'04','Weather':{'C':'多雲','E':'PARTLY CLOUDY'},'Temperature':{'C':{'C':'28.0','E':'28.0'},'F':{'C':'82','E':'82'}},'Humidity':{'C':'59','E':'59'},'Rain':{'C':'0.0','E':'0.0'},'WindDir':{'C':'東北東','E':'ENE'},'WindDir_Icon':'ene','Wind':{'MS':{'C':'2.8','E':'2.8'},'BF':{'C':'2','E':'2'}},'Gust':{'MS':{'C':'10.1','E':'10.1'},'BF':{'C':'5','E':'5'}},'Visibility':{'C':'>30','E':'>30'},'Pressure':{'C':'1010.1','E':'1010.1'},'Sunshine':'4.5'},\n",
      "  '2':{'StationStatus':'1','StationStatus_Desp':'','StationID':'46693','Date':'04/24','Time':'13:20','StationName':{'C':'陽明山','E':\"Yangmingshan\"},'W_Time':'day','Wx_Icon':'04','Weather':{'C':'多雲','E':'PARTLY CLOUDY'},'Temperature':{'C':{'C':'21.8','E':'21.8'},'F':{'C':'71','E':'71'}},'Humidity':{'C':'83','E':'83'},'Rain':{'C':'4.5','E':'4.5'},'WindDir':{'C':'北北東','E':'NNE'},'WindDir_Icon':'nne','Wind':{'MS':{'C':'5.1','E':'5.1'},'BF':{'C':'3','E':'3'}},'Gust':{'MS':{'C':'10.7','E':'10.7'},'BF':{'C':'5','E':'5'}},'Visibility':{'C':'>30','E':'>30'},'Pressure':{'C':'1010.8','E':'1010.8'},'Sunshine':'3.0'},\n",
      "  '3':{'StationStatus':'1','StationStatus_Desp':'','StationID':'A0A01','Date':'04/24','Time':'13:20','StationName':{'C':'臺灣大學','E':\"NTU\"},'W_Time':'day','Wx_Icon':'04','Weather':{'C':'多雲','E':'PARTLY CLOUDY'},'Temperature':{'C':{'C':'28.2','E':'28.2'},'F':{'C':'83','E':'83'}},'Humidity':{'C':'59','E':'59'},'Rain':{'C':'0.0','E':'0.0'},'WindDir':{'C':'東北東','E':'ENE'},'WindDir_Icon':'ene','Wind':{'MS':{'C':'2.6','E':'2.6'},'BF':{'C':'2','E':'2'}},'Gust':{'MS':{'C':'8.0','E':'8.0'},'BF':{'C':'5','E':'5'}},'Visibility':{'C':'-','E':'-'},'Pressure':{'C':'-','E':'-'},'Sunshine':'-'},\n",
      "  '4':{'StationStatus':'1','StationStatus_Desp':'','StationID':'A0A46','Date':'04/24','Time':'13:20','StationName':{'C':'文化大學','E':\"PCCU\"},'W_Time':'day','Wx_Icon':'04','Weather':{'C':'多雲','E':'PARTLY CLOUDY'},'Temperature':{'C':{'C':'23.0','E':'23.0'},'F':{'C':'73','E':'73'}},'Humidity':{'C':'73','E':'73'},'Rain':{'C':'0.5','E':'0.5'},'WindDir':{'C':'北北東','E':'NNE'},'WindDir_Icon':'nne','Wind':{'MS':{'C':'4.5','E':'4.5'},'BF':{'C':'3','E':'3'}},'Gust':{'MS':{'C':'-','E':'-'},'BF':{'C':'-','E':'-'}},'Visibility':{'C':'-','E':'-'},'Pressure':{'C':'-','E':'-'},'Sunshine':'-'},\n",
      "  '5':{'StationStatus':'1','StationStatus_Desp':'','StationID':'C0A98','Date':'04/24','Time':'13:00','StationName':{'C':'社子','E':\"Shezi\"},'W_Time':'day','Wx_Icon':'01','Weather':{'C':'晴','E':'CLEAR'},'Temperature':{'C':{'C':'27.5','E':'27.5'},'F':{'C':'82','E':'82'}},'Humidity':{'C':'62','E':'62'},'Rain':{'C':'0.0','E':'0.0'},'WindDir':{'C':'南','E':'S'},'WindDir_Icon':'s','Wind':{'MS':{'C':'0.3','E':'0.3'},'BF':{'C':'1','E':'1'}},'Gust':{'MS':{'C':'-','E':'-'},'BF':{'C':'-','E':'-'}},'Visibility':{'C':'-','E':'-'},'Pressure':{'C':'-','E':'-'},'Sunshine':'-'},\n",
      "  '6':{'StationStatus':'1','StationStatus_Desp':'','StationID':'C0A9C','Date':'04/24','Time':'13:00','StationName':{'C':'天母','E':\"Tianmu\"},'W_Time':'day','Wx_Icon':'04','Weather':{'C':'多雲','E':'PARTLY CLOUDY'},'Temperature':{'C':{'C':'27.5','E':'27.5'},'F':{'C':'82','E':'82'}},'Humidity':{'C':'62','E':'62'},'Rain':{'C':'0.0','E':'0.0'},'WindDir':{'C':'東南東','E':'ESE'},'WindDir_Icon':'ese','Wind':{'MS':{'C':'2.4','E':'2.4'},'BF':{'C':'2','E':'2'}},'Gust':{'MS':{'C':'9.6','E':'9.6'},'BF':{'C':'5','E':'5'}},'Visibility':{'C':'-','E':'-'},'Pressure':{'C':'-','E':'-'},'Sunshine':'-'},\n",
      "  '7':{'StationStatus':'1','StationStatus_Desp':'','StationID':'C0A9E','Date':'04/24','Time':'13:00','StationName':{'C':'士林','E':\"Shilin\"},'W_Time':'day','Wx_Icon':'01','Weather':{'C':'晴','E':'CLEAR'},'Temperature':{'C':{'C':'27.9','E':'27.9'},'F':{'C':'82','E':'82'}},'Humidity':{'C':'54','E':'54'},'Rain':{'C':'0.0','E':'0.0'},'WindDir':{'C':'東北東','E':'ENE'},'WindDir_Icon':'ene','Wind':{'MS':{'C':'1.9','E':'1.9'},'BF':{'C':'2','E':'2'}},'Gust':{'MS':{'C':'-','E':'-'},'BF':{'C':'-','E':'-'}},'Visibility':{'C':'-','E':'-'},'Pressure':{'C':'-','E':'-'},'Sunshine':'-'},\n",
      "  '8':{'StationStatus':'1','StationStatus_Desp':'','StationID':'C0A9F','Date':'04/24','Time':'13:00','StationName':{'C':'內湖','E':\"Neihu\"},'W_Time':'day','Wx_Icon':'04','Weather':{'C':'多雲','E':'PARTLY CLOUDY'},'Temperature':{'C':{'C':'27.4','E':'27.4'},'F':{'C':'81','E':'81'}},'Humidity':{'C':'49','E':'49'},'Rain':{'C':'0.0','E':'0.0'},'WindDir':{'C':'東','E':'E'},'WindDir_Icon':'e','Wind':{'MS':{'C':'3.1','E':'3.1'},'BF':{'C':'2','E':'2'}},'Gust':{'MS':{'C':'9.9','E':'9.9'},'BF':{'C':'5','E':'5'}},'Visibility':{'C':'-','E':'-'},'Pressure':{'C':'-','E':'-'},'Sunshine':'-'},\n",
      "  '9':{'StationStatus':'1','StationStatus_Desp':'','StationID':'C0AC4','Date':'04/24','Time':'13:00','StationName':{'C':'大屯山','E':\"Datunshan\"},'W_Time':'day','Wx_Icon':'01','Weather':{'C':'晴','E':'CLEAR'},'Temperature':{'C':{'C':'19.3','E':'19.3'},'F':{'C':'67','E':'67'}},'Humidity':{'C':'99','E':'99'},'Rain':{'C':'1.0','E':'1.0'},'WindDir':{'C':'西南','E':'SW'},'WindDir_Icon':'sw','Wind':{'MS':{'C':'1.2','E':'1.2'},'BF':{'C':'1','E':'1'}},'Gust':{'MS':{'C':'-','E':'-'},'BF':{'C':'-','E':'-'}},'Visibility':{'C':'-','E':'-'},'Pressure':{'C':'-','E':'-'},'Sunshine':'-'},\n",
      "  '10':{'StationStatus':'1','StationStatus_Desp':'','StationID':'C0AC7','Date':'04/24','Time':'13:00','StationName':{'C':'信義','E':\"Xinyi\"},'W_Time':'day','Wx_Icon':'04','Weather':{'C':'多雲','E':'PARTLY CLOUDY'},'Temperature':{'C':{'C':'-','E':'-'},'F':{'C':'-','E':'-'}},'Humidity':{'C':'-','E':'-'},'Rain':{'C':'0.0','E':'0.0'},'WindDir':{'C':'－','E':'－'},'WindDir_Icon':'－','Wind':{'MS':{'C':'-','E':'-'},'BF':{'C':'-','E':'-'}},'Gust':{'MS':{'C':'-','E':'-'},'BF':{'C':'-','E':'-'}},'Visibility':{'C':'-','E':'-'},'Pressure':{'C':'-','E':'-'},'Sunshine':'-'},\n",
      "  '11':{'StationStatus':'1','StationStatus_Desp':'','StationID':'C0AC8','Date':'04/24','Time':'13:00','StationName':{'C':'文山','E':\"Wenshan\"},'W_Time':'day','Wx_Icon':'04','Weather':{'C':'多雲','E':'PARTLY CLOUDY'},'Temperature':{'C':{'C':'26.0','E':'26.0'},'F':{'C':'79','E':'79'}},'Humidity':{'C':'70','E':'70'},'Rain':{'C':'0.5','E':'0.5'},'WindDir':{'C':'東北','E':'NE'},'WindDir_Icon':'ne','Wind':{'MS':{'C':'4.1','E':'4.1'},'BF':{'C':'3','E':'3'}},'Gust':{'MS':{'C':'11.0','E':'11.0'},'BF':{'C':'6','E':'6'}},'Visibility':{'C':'-','E':'-'},'Pressure':{'C':'-','E':'-'},'Sunshine':'-'},\n",
      "  '12':{'StationStatus':'1','StationStatus_Desp':'','StationID':'C0AH4','Date':'04/24','Time':'13:00','StationName':{'C':'平等','E':\"Pingdeng\"},'W_Time':'day','Wx_Icon':'04','Weather':{'C':'多雲','E':'PARTLY CLOUDY'},'Temperature':{'C':{'C':'23.6','E':'23.6'},'F':{'C':'74','E':'74'}},'Humidity':{'C':'72','E':'72'},'Rain':{'C':'1.0','E':'1.0'},'WindDir':{'C':'東北','E':'NE'},'WindDir_Icon':'ne','Wind':{'MS':{'C':'2.5','E':'2.5'},'BF':{'C':'2','E':'2'}},'Gust':{'MS':{'C':'8.2','E':'8.2'},'BF':{'C':'5','E':'5'}},'Visibility':{'C':'-','E':'-'},'Pressure':{'C':'-','E':'-'},'Sunshine':'-'},\n",
      "  '13':{'StationStatus':'1','StationStatus_Desp':'','StationID':'C0AH7','Date':'04/24','Time':'13:00','StationName':{'C':'松山','E':\"Songshan\"},'W_Time':'day','Wx_Icon':'04','Weather':{'C':'多雲','E':'PARTLY CLOUDY'},'Temperature':{'C':{'C':'27.4','E':'27.4'},'F':{'C':'81','E':'81'}},'Humidity':{'C':'51','E':'51'},'Rain':{'C':'0.0','E':'0.0'},'WindDir':{'C':'東北東','E':'ENE'},'WindDir_Icon':'ene','Wind':{'MS':{'C':'2.9','E':'2.9'},'BF':{'C':'2','E':'2'}},'Gust':{'MS':{'C':'8.2','E':'8.2'},'BF':{'C':'5','E':'5'}},'Visibility':{'C':'-','E':'-'},'Pressure':{'C':'-','E':'-'},'Sunshine':'-'},\n",
      "  '14':{'StationStatus':'1','StationStatus_Desp':'','StationID':'C0AI4','Date':'04/24','Time':'13:00','StationName':{'C':'石牌','E':\"Shipai\"},'W_Time':'day','Wx_Icon':'01','Weather':{'C':'晴','E':'CLEAR'},'Temperature':{'C':{'C':'26.9','E':'26.9'},'F':{'C':'80','E':'80'}},'Humidity':{'C':'56','E':'56'},'Rain':{'C':'0.0','E':'0.0'},'WindDir':{'C':'東北東','E':'ENE'},'WindDir_Icon':'ene','Wind':{'MS':{'C':'2.5','E':'2.5'},'BF':{'C':'2','E':'2'}},'Gust':{'MS':{'C':'-','E':'-'},'BF':{'C':'-','E':'-'}},'Visibility':{'C':'-','E':'-'},'Pressure':{'C':'-','E':'-'},'Sunshine':'-'},\n",
      "  '15':{'StationStatus':'1','StationStatus_Desp':'','StationID':'CAA04','Date':'04/24','Time':'13:20','StationName':{'C':'國三S016K','E':\"Freeway No. 3 - CCTV – S016K\"},'W_Time':'day','Wx_Icon':'04','Weather':{'C':'多雲','E':'PARTLY CLOUDY'},'Temperature':{'C':{'C':'25.3','E':'25.3'},'F':{'C':'78','E':'78'}},'Humidity':{'C':'76','E':'76'},'Rain':{'C':'0.5','E':'0.5'},'WindDir':{'C':'北北東','E':'NNE'},'WindDir_Icon':'nne','Wind':{'MS':{'C':'4.0','E':'4.0'},'BF':{'C':'3','E':'3'}},'Gust':{'MS':{'C':'9.0','E':'9.0'},'BF':{'C':'5','E':'5'}},'Visibility':{'C':'-','E':'-'},'Pressure':{'C':'-','E':'-'},'Sunshine':'-'},\n",
      "  '16':{'StationStatus':'1','StationStatus_Desp':'','StationID':'CAA09','Date':'04/24','Time':'13:20','StationName':{'C':'國三A005K','E':\"Freeway No. 3 - CCTV – A005K\"},'W_Time':'day','Wx_Icon':'04','Weather':{'C':'多雲','E':'PARTLY CLOUDY'},'Temperature':{'C':{'C':'26.0','E':'26.0'},'F':{'C':'79','E':'79'}},'Humidity':{'C':'72','E':'72'},'Rain':{'C':'0.5','E':'0.5'},'WindDir':{'C':'東北','E':'NE'},'WindDir_Icon':'ne','Wind':{'MS':{'C':'4.8','E':'4.8'},'BF':{'C':'3','E':'3'}},'Gust':{'MS':{'C':'-','E':'-'},'BF':{'C':'-','E':'-'}},'Visibility':{'C':'-','E':'-'},'Pressure':{'C':'-','E':'-'},'Sunshine':'-'},\n",
      "  '17':{'StationStatus':'1','StationStatus_Desp':'','StationID':'CAAH6','Date':'04/24','Time':'13:20','StationName':{'C':'大安森林','E':\"Da'an Forest Park\"},'W_Time':'day','Wx_Icon':'04','Weather':{'C':'多雲','E':'PARTLY CLOUDY'},'Temperature':{'C':{'C':'27.8','E':'27.8'},'F':{'C':'82','E':'82'}},'Humidity':{'C':'61','E':'61'},'Rain':{'C':'0.0','E':'0.0'},'WindDir':{'C':'東','E':'E'},'WindDir_Icon':'e','Wind':{'MS':{'C':'1.2','E':'1.2'},'BF':{'C':'1','E':'1'}},'Gust':{'MS':{'C':'-','E':'-'},'BF':{'C':'-','E':'-'}},'Visibility':{'C':'-','E':'-'},'Pressure':{'C':'-','E':'-'},'Sunshine':'-'},\n",
      "  '18':{'StationStatus':'1','StationStatus_Desp':'','StationID':'G2AI5','Date':'04/24','Time':'13:20','StationName':{'C':'台農院關渡站','E':\"Agriculture Guandu Station\"},'W_Time':'day','Wx_Icon':'01','Weather':{'C':'晴','E':'CLEAR'},'Temperature':{'C':{'C':'27.9','E':'27.9'},'F':{'C':'82','E':'82'}},'Humidity':{'C':'59','E':'59'},'Rain':{'C':'0.0','E':'0.0'},'WindDir':{'C':'東南東','E':'ESE'},'WindDir_Icon':'ese','Wind':{'MS':{'C':'2.4','E':'2.4'},'BF':{'C':'2','E':'2'}},'Gust':{'MS':{'C':'-','E':'-'},'BF':{'C':'-','E':'-'}},'Visibility':{'C':'-','E':'-'},'Pressure':{'C':'-','E':'-'},'Sunshine':'-'}\n",
      " }\n",
      "};\n",
      " var ObsDate='04/24';\n",
      "\n"
     ]
    }
   ],
   "source": [
    "print(result.text)"
   ]
  },
  {
   "cell_type": "code",
   "execution_count": null,
   "metadata": {},
   "outputs": [],
   "source": []
  }
 ],
 "metadata": {
  "kernelspec": {
   "display_name": "Python 3",
   "language": "python",
   "name": "python3"
  },
  "language_info": {
   "codemirror_mode": {
    "name": "ipython",
    "version": 3
   },
   "file_extension": ".py",
   "mimetype": "text/x-python",
   "name": "python",
   "nbconvert_exporter": "python",
   "pygments_lexer": "ipython3",
   "version": "3.8.6"
  }
 },
 "nbformat": 4,
 "nbformat_minor": 5
}
