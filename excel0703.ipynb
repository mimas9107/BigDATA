{
 "cells": [
  {
   "cell_type": "code",
   "execution_count": 2,
   "id": "a8ebdf4a",
   "metadata": {},
   "outputs": [],
   "source": [
    "import openpyxl\n"
   ]
  },
  {
   "cell_type": "code",
   "execution_count": 8,
   "id": "538ffea4",
   "metadata": {},
   "outputs": [],
   "source": [
    "workbook = openpyxl.Workbook() # create a new workbook\n",
    "worksheet = workbook.active    # create a worksheet\n",
    "\n",
    "worksheet['A1']='職缺名稱'\n",
    "worksheet['B1']='公司名稱'\n",
    "worksheet['C1']='地區'\n",
    "worksheet['D1']='薪資待遇'\n",
    "\n",
    "worksheet['E1']='經歷需求'\n",
    "worksheet['F1']='學歷'\n",
    "worksheet['G1']='連結'\n",
    "worksheet['H1']='聯絡人'\n",
    "\n",
    "worksheet.append([1,2,3,4,5,6,7,8]) # Add a new row\n",
    "worksheet.append([9,10,11,12,13,14,15,16])\n",
    "\n",
    "workbook.save('test0703.xlsx') # save the processed workbook"
   ]
  },
  {
   "cell_type": "code",
   "execution_count": null,
   "id": "fe9b0349",
   "metadata": {},
   "outputs": [],
   "source": []
  },
  {
   "cell_type": "code",
   "execution_count": null,
   "id": "4cf8e914",
   "metadata": {},
   "outputs": [],
   "source": []
  }
 ],
 "metadata": {
  "kernelspec": {
   "display_name": "Python 3",
   "language": "python",
   "name": "python3"
  },
  "language_info": {
   "codemirror_mode": {
    "name": "ipython",
    "version": 3
   },
   "file_extension": ".py",
   "mimetype": "text/x-python",
   "name": "python",
   "nbconvert_exporter": "python",
   "pygments_lexer": "ipython3",
   "version": "3.8.10"
  },
  "toc": {
   "base_numbering": 1,
   "nav_menu": {},
   "number_sections": true,
   "sideBar": true,
   "skip_h1_title": false,
   "title_cell": "Table of Contents",
   "title_sidebar": "Contents",
   "toc_cell": false,
   "toc_position": {},
   "toc_section_display": true,
   "toc_window_display": false
  }
 },
 "nbformat": 4,
 "nbformat_minor": 5
}
